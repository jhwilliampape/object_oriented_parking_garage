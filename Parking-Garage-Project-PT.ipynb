{
 "cells": [
  {
   "cell_type": "markdown",
   "metadata": {},
   "source": [
    "# Parking Garage Project\n",
    "\n",
    "Your assignment for today is to create a parking garage class to get more familiar with Object Oriented Programming(OOP). \n",
    "\n",
    "Your parking gargage class should have the following methods:\n",
    "- takeTicket\n",
    "   - This should decrease the amount of tickets available by 1\n",
    "   - This should decrease the amount of parkingSpaces available by 1\n",
    "- payForParking\n",
    "   - Display an input that waits for an amount from the user and store it in a variable\n",
    "   - If the payment variable is not empty then ->  display a message to the user that their ticket has been paid and they have 15mins to leave\n",
    "   - This should update the \"currentTicket\" dictionary key \"paid\" to True\n",
    "- leaveGarage\n",
    "   - If the ticket has been paid, display a message of \"Thank You, have a nice day\"\n",
    "   - If the ticket has not been paid, display an input prompt for payment\n",
    "      - Once paid, display message \"Thank you, have a nice day!\"\n",
    "   - Update parkingSpaces list to increase by 1\n",
    "   - Update tickets list to increase by 1\n",
    "\n",
    "You will need a few attributes as well:\n",
    "- tickets -> list\n",
    "- parkingSpaces -> list\n",
    "- currentTicket -> dictionary"
   ]
  },
  {
   "cell_type": "code",
   "execution_count": null,
   "metadata": {},
   "outputs": [
    {
     "name": "stdout",
     "output_type": "stream",
     "text": [
      "Please scan your ticket:2\n",
      "Have a nice day!\n"
     ]
    }
   ],
   "source": [
    "from IPython.display import clear_output\n",
    "\n",
    "self.tickets = [1, 2, 3, 4, 5, 6, 7, 8, 9, 10]\n",
    "\n",
    "self.parkingSpaces = [1,2,3,4,5,6,7,8,9,10]\n",
    "\n",
    "self.currentTicket = {}\n",
    "    \n",
    "\n",
    "#take ticket function\n",
    "def takeTicket():\n",
    "    clear_output()\n",
    "\n",
    "    if tickets == []:\n",
    "        print(f\"Sorry, the garage is full.\")\n",
    "    else:\n",
    "        print(f\"Please take ticket {tickets[0]}\")\n",
    "        new_ticket = tickets.pop(0)\n",
    "        currentTicket[new_ticket] = status\n",
    "        parkingSpaces.pop(0)\n",
    "        print(currentTicket)\n",
    "        print(tickets)\n",
    "\n",
    "    \n",
    "#pay for parking function\n",
    "def payForParking():\n",
    "    clear_output()\n",
    "    response = int(input(f\"Please enter your ticket number:\"))\n",
    "    if currentTicket[response] == 'paid':\n",
    "        print(\"Already paid.\")\n",
    "    elif currentTicket[response] == '':\n",
    "        print(f\"Please pay for parking...\")\n",
    "        \n",
    "        pay = input(\"Press any key to pay..\")\n",
    "        currentTicket[response] = 'paid'\n",
    "        print(currentTicket)\n",
    "    else:\n",
    "        print(\"Invalid response\")\n",
    "                \n",
    "    \n",
    "#leave garage function\n",
    "def leaveGarage():\n",
    "    clear_output()\n",
    "    response = int(input(\"Please scan your ticket:\"))\n",
    "        \n",
    "    if currentTicket[response] == 'paid':\n",
    "        print(\"Have a nice day!\")\n",
    "        parkingSpaces.append(response)\n",
    "        tickets.append(response)\n",
    "        del currentTicket[response]\n",
    "    else: \n",
    "        print(\"Please pay before exiting.\")\n",
    "    \n",
    "\n",
    "def runGarage():\n",
    "    response = input(\"Welcome to parking, would you like to park your car? Yes or No?\")\n",
    "    if response.lower() == 'no':\n",
    "        print('Have a nice day!')\n",
    "    elif response.lower() == 'yes':\n",
    "        takeTicket()\n",
    "\n",
    "    while True:    \n",
    "        tickets = input('What would you like to do? Pay, Park, Leave?')\n",
    "\n",
    "        if tickets.lower() == 'pay':\n",
    "            payForParking()\n",
    "\n",
    "        elif tickets.lower() == 'park':\n",
    "            takeTicket()\n",
    "\n",
    "        elif tickets.lower() == 'leave':\n",
    "            leaveGarage()\n",
    "    else:\n",
    "        print(\"Invalid response\")\n",
    "    \n",
    "    \n",
    "runGarage()"
   ]
  },
  {
   "cell_type": "code",
   "execution_count": null,
   "metadata": {},
   "outputs": [],
   "source": []
  },
  {
   "cell_type": "code",
   "execution_count": null,
   "metadata": {},
   "outputs": [],
   "source": []
  },
  {
   "cell_type": "code",
   "execution_count": null,
   "metadata": {},
   "outputs": [],
   "source": []
  }
 ],
 "metadata": {
  "kernelspec": {
   "display_name": "Python 3",
   "language": "python",
   "name": "python3"
  },
  "language_info": {
   "codemirror_mode": {
    "name": "ipython",
    "version": 3
   },
   "file_extension": ".py",
   "mimetype": "text/x-python",
   "name": "python",
   "nbconvert_exporter": "python",
   "pygments_lexer": "ipython3",
   "version": "3.8.5"
  }
 },
 "nbformat": 4,
 "nbformat_minor": 2
}
